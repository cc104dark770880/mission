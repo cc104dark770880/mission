data={
        "string": "test",
        "number": 123132,
        "object": {
                    "ob1": "test2",
                    "ob2": "test3"
                   },
        "array": [1, 2, 3, 4]
      }

#寫入檔案
import json
#打開檔案(寫入模式)
file=open('./data.text','w')
#寫入資料
file.write(json.dumps(data))
file.close()

#修改檔案
import json

#讀取檔案(讀取模式)
file=open('./data.text','r')
#將資料存入變數(json格式)
dfile=json.load(file)
file.close()

#修改變數資料
dfile["string"]="asdf"

#打開檔案(寫入模式)
file=open('./data.text','w')
#複寫資料
file.write(json.dumps(dfile))
file.close()
